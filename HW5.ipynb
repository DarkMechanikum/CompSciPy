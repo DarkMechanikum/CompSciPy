{
  "cells": [
    {
      "cell_type": "markdown",
      "metadata": {
        "id": "view-in-github",
        "colab_type": "text"
      },
      "source": [
        "<a href=\"https://colab.research.google.com/github/DarkMechanikum/CompSciPy/blob/main/HW5.ipynb\" target=\"_parent\"><img src=\"https://colab.research.google.com/assets/colab-badge.svg\" alt=\"Open In Colab\"/></a>"
      ]
    },
    {
      "cell_type": "markdown",
      "metadata": {
        "id": "dBi-MfNgG9IB"
      },
      "source": [
        "## Homework on Modern Convolutional Neural Networks\n",
        "\n",
        "### Description\n",
        "In this homework, you need to write a convolutional neural network for image classification.\n",
        "\n",
        "You have been provided with a modified dataset of The Street View House Numbers ([SVHN](http://ufldl.stanford.edu/housenumbers/)). It contains 50 thousand (train) + 25 thousand (test) 32x32 RGB images with numbers cut from real photos of house numbers.\n",
        "\n",
        "Task: use convolutional neural networks to achieve maximum classification accuracy.\n",
        "\n",
        "In this homework task, there are no restrictions on the architecture of the model, but you **need to implement it in PyTorch by yourself** and train it from scratch only on this dataset, without external data.\n",
        "\n",
        "### Data\n",
        "This notebook already has the code for PyTorch responsible for loading the data. The following is a brief description of the data storage format.\n",
        "\n",
        "Each of the files is a `pickle` serialized with protocol version 4 (which became the default version in Python 3.8 and later) a python dictionary.\n",
        "\n",
        "List of files:\n",
        "\n",
        "- `meta` — dataset metadata (for example, class names)\n",
        "- `data_train` — training data, 50K objects\n",
        "- `data_test` — data for the test, 25K objects, without the correct classes\n",
        "\n",
        "Data dictionaries have the following fields:\n",
        "\n",
        "- `section` — name of the data part (train/test)\n",
        "- `labels` — ground-truth classes, list of `N` numbers from 0 to 9\n",
        "- `images` — numpy array of size `(N, 32, 32, 3)` with images\n",
        "\n",
        "### Evaluation\n",
        "The metric accuracy will evaluate the quality of the solution. Accuracy is the number of correctly classified pictures to the total number of pictures in the test set. The public leaderboard is calculated using 30% of the test data, so try not to retrain for it.\n",
        "\n",
        "```\n",
        "accuracy = (correct classified) / (total number of examples)\n",
        "```\n",
        "\n",
        "As a solution, you should send a file of the format:\n",
        "\n",
        "```\n",
        "ID,Category\n",
        "0, 3\n",
        "1, 2\n",
        "2, 9\n",
        "3, 1\n",
        "...\n",
        "```\n",
        "\n",
        "where:\n",
        "\n",
        "- `Id` — number of the object in the test dataset\n",
        "- `Category` — predicted object class\n",
        "\n",
        "This notebook already has the code that prepares the solution file.\n",
        "\n",
        "### Experiments\n",
        "\n",
        "Since there are so many different hyperparameters in training a neural network model, many different experiments will need to be done in this task. And it will be beneficial, both for you and for us, who check, the presence of a text description of all, or at least the most interesting/important in choosing the final model, experiments with the results in the final notebook. The presence and detail of the description of the experiments will be included in the final grade for the homework. The deadline on Kaggle is specially set a little earlier so that you have time to calmly finish the report on the experiments."
      ]
    },
    {
      "cell_type": "markdown",
      "metadata": {
        "id": "Jm6VSsdbG9IK"
      },
      "source": [
        "## Baseline solution"
      ]
    },
    {
      "cell_type": "code",
      "execution_count": 1,
      "metadata": {
        "id": "nWUgESjqG9IL",
        "ExecuteTime": {
          "end_time": "2023-11-16T09:06:40.354909400Z",
          "start_time": "2023-11-16T09:06:39.406649600Z"
        }
      },
      "outputs": [],
      "source": [
        "import numpy as np\n",
        "import matplotlib.pyplot as plt\n",
        "from tqdm import trange\n",
        "from IPython.display import clear_output"
      ]
    },
    {
      "cell_type": "code",
      "execution_count": 2,
      "metadata": {
        "id": "wxvsuhDsG9IO",
        "ExecuteTime": {
          "end_time": "2023-11-16T09:06:41.872625800Z",
          "start_time": "2023-11-16T09:06:41.838602900Z"
        }
      },
      "outputs": [],
      "source": [
        "import os\n",
        "import pickle\n",
        "from typing import Any, Callable, Optional, Tuple\n",
        "from PIL import Image\n",
        "from scipy import ndimage"
      ]
    },
    {
      "cell_type": "code",
      "execution_count": 3,
      "metadata": {
        "id": "I67MDMgqG9IQ",
        "ExecuteTime": {
          "end_time": "2023-11-16T09:06:47.689849400Z",
          "start_time": "2023-11-16T09:06:42.703463700Z"
        }
      },
      "outputs": [],
      "source": [
        "import torch\n",
        "from collections import OrderedDict\n",
        "from torch import nn\n",
        "from torch.utils.data import DataLoader, random_split\n",
        "import torchvision.transforms as transforms\n",
        "from torchvision.transforms import ToTensor, Compose\n",
        "from torchvision.datasets.vision import VisionDataset"
      ]
    },
    {
      "cell_type": "markdown",
      "metadata": {
        "id": "WZHrDghiG9IR"
      },
      "source": [
        "The data is in the [Data](https://www.kaggle.com/competitions/nup-ml-1-2023-image-classification/data) section of the kaggle competition. <br>\n",
        "You need to download the archive with the data and unzip it. <br>\n",
        "In the variable below, specify the path to the dataset. <br>"
      ]
    },
    {
      "cell_type": "code",
      "execution_count": 4,
      "metadata": {
        "id": "4NztdwC4G9IS",
        "ExecuteTime": {
          "end_time": "2023-11-16T10:00:09.942927600Z",
          "start_time": "2023-11-16T10:00:09.913830500Z"
        },
        "colab": {
          "base_uri": "https://localhost:8080/"
        },
        "outputId": "2278f7a4-c17e-4aba-ce8c-877e447d0c21"
      },
      "outputs": [
        {
          "output_type": "stream",
          "name": "stdout",
          "text": [
            "Drive already mounted at /content/drive; to attempt to forcibly remount, call drive.mount(\"/content/drive\", force_remount=True).\n",
            "Archive:  /content/drive/MyDrive/ml_data.zip\n",
            "  inflating: data_test.zip           \n",
            "  inflating: data_train.zip          \n",
            "  inflating: meta                    \n",
            "Archive:  /content/data_test.zip\n",
            "  inflating: data_test               \n",
            "Archive:  /content/data_train.zip\n",
            "  inflating: data_train              \n"
          ]
        }
      ],
      "source": [
        "from google.colab import drive, files\n",
        "drive.mount('/content/drive')\n",
        "\n",
        "!unzip /content/drive/MyDrive/ml_data.zip\n",
        "!unzip /content/data_test.zip\n",
        "!unzip /content/data_train.zip\n",
        "\n",
        "\n",
        "dataset_root = \"/content/\""
      ]
    },
    {
      "cell_type": "markdown",
      "metadata": {
        "id": "KKklLnOuG9IT"
      },
      "source": [
        "Code for loading the modified SVHN dataset. Initialization Arguments:\n",
        "\n",
        "- `root` — string, path to directory with dataset files\n",
        "- `is_train` — flag, load part for training or test\n",
        "- `transform` — image transformations\n",
        "- `target_transform` — image class transformations"
      ]
    },
    {
      "cell_type": "code",
      "execution_count": 5,
      "metadata": {
        "id": "qRFxlpiCG9IT",
        "ExecuteTime": {
          "end_time": "2023-11-16T10:00:19.583763600Z",
          "start_time": "2023-11-16T10:00:19.539620Z"
        }
      },
      "outputs": [],
      "source": [
        "def rm_noise(img):\n",
        "  res_img = ndimage.median_filter(img, 3)\n",
        "  return res_img\n",
        "class SVHN(VisionDataset):\n",
        "\n",
        "    def __init__(self,\n",
        "                 root: str,\n",
        "                 is_train: bool = True,\n",
        "                 transform: Optional[Callable] = None,\n",
        "                 target_transform: Optional[Callable] = None,\n",
        "                 ) -> None:\n",
        "\n",
        "        super().__init__(root, transform=transform, target_transform=target_transform)\n",
        "        self.is_train = is_train\n",
        "\n",
        "        meta_path = os.path.join(self.root, 'meta')\n",
        "        with open(meta_path, \"rb\") as f:\n",
        "            content = pickle.load(f)\n",
        "            self.classes = content['label_names']\n",
        "            self.class_to_idx = {_class: i for i, _class in enumerate(self.classes)}\n",
        "\n",
        "        data_path = os.path.join(self.root, 'data_train' if is_train else 'data_test')\n",
        "        with open(data_path, \"rb\") as f:\n",
        "            content = pickle.load(f)\n",
        "            self.data = content['images']\n",
        "\n",
        "            for i in trange(len(self.data)):\n",
        "              self.data[i] = rm_noise(self.data[i])\n",
        "            self.targets = content.get('labels')\n",
        "\n",
        "    def __getitem__(self, index: int) -> Tuple[Any, Any]:\n",
        "        img = Image.fromarray(self.data[index].astype(np.uint8))\n",
        "        target = self.targets[index] if self.is_train else len(self.classes)\n",
        "        if self.transform is not None:\n",
        "            img = self.transform(img)\n",
        "        if self.target_transform is not None:\n",
        "            target = self.target_transform(target)\n",
        "        return img, target\n",
        "\n",
        "    def __len__(self) -> int:\n",
        "        return len(self.data)\n",
        "\n",
        "    def extra_repr(self) -> str:\n",
        "        split = \"Train\" if self.train is True else \"Test\"\n",
        "        return f\"Split: {split}\""
      ]
    },
    {
      "cell_type": "markdown",
      "metadata": {
        "id": "lg_a30x0G9IW"
      },
      "source": [
        "### Dataset download"
      ]
    },
    {
      "cell_type": "code",
      "execution_count": 6,
      "metadata": {
        "id": "tP3muPkoG9IX",
        "ExecuteTime": {
          "end_time": "2023-11-16T10:00:24.553211200Z",
          "start_time": "2023-11-16T10:00:23.798582700Z"
        },
        "colab": {
          "base_uri": "https://localhost:8080/"
        },
        "outputId": "ae7a6866-9aa9-4cb5-a8b8-3f9d33beb07c"
      },
      "outputs": [
        {
          "output_type": "stream",
          "name": "stderr",
          "text": [
            "100%|██████████| 50000/50000 [01:17<00:00, 642.35it/s]\n"
          ]
        }
      ],
      "source": [
        "train_transform = transforms.Compose([\n",
        "      transforms.ToTensor(),\n",
        "      transforms.Normalize((0., 0., 0.), (0.5, 0.5, 0.5)),\n",
        "      transforms.RandomRotation(20),\n",
        "])\n",
        "\n",
        "\n",
        "data = SVHN(\n",
        "    root=dataset_root,\n",
        "    is_train=True,\n",
        "    transform=train_transform,\n",
        ")"
      ]
    },
    {
      "cell_type": "markdown",
      "metadata": {
        "id": "X8lF96VKG9IY"
      },
      "source": [
        "We randomly split the dataset into training and validation. <br>\n",
        "In the first part, we will train the classification model. <br>\n",
        "In the second part, we will evaluate the quality during the experiments. <br>"
      ]
    },
    {
      "cell_type": "code",
      "execution_count": 7,
      "metadata": {
        "id": "OIpJTW_cG9IZ",
        "ExecuteTime": {
          "end_time": "2023-11-16T10:00:29.470859900Z",
          "start_time": "2023-11-16T10:00:29.423189100Z"
        }
      },
      "outputs": [],
      "source": [
        "train_data, val_data = torch.utils.data.random_split(\n",
        "    data,\n",
        "    [47050, 2950],\n",
        "    generator=torch.Generator().manual_seed(1234),\n",
        ")"
      ]
    },
    {
      "cell_type": "markdown",
      "metadata": {
        "id": "jZ5iJsI5G9IZ"
      },
      "source": [
        "Data loaders initialization."
      ]
    },
    {
      "cell_type": "code",
      "execution_count": 8,
      "metadata": {
        "id": "kbOao5e0G9Ia",
        "ExecuteTime": {
          "end_time": "2023-11-16T10:00:32.014680Z",
          "start_time": "2023-11-16T10:00:31.984749900Z"
        }
      },
      "outputs": [],
      "source": [
        "batch_size = 512\n",
        "train_dataloader = DataLoader(train_data, batch_size=batch_size)\n",
        "val_dataloader = DataLoader(val_data, batch_size=batch_size)"
      ]
    },
    {
      "cell_type": "markdown",
      "metadata": {
        "id": "Dv2vksflG9Ia"
      },
      "source": [
        "Let's see what size batches the data loader produces."
      ]
    },
    {
      "cell_type": "code",
      "execution_count": 9,
      "metadata": {
        "id": "XzFCXqL3G9Ib",
        "outputId": "c0aa2590-d315-48ee-d1b9-cc2a580f6bcb",
        "ExecuteTime": {
          "end_time": "2023-11-16T10:00:33.995121400Z",
          "start_time": "2023-11-16T10:00:33.828546800Z"
        },
        "colab": {
          "base_uri": "https://localhost:8080/"
        }
      },
      "outputs": [
        {
          "output_type": "stream",
          "name": "stdout",
          "text": [
            "Shape of X [N, C, H, W]:  torch.Size([512, 3, 32, 32])\n",
            "Shape of y:  torch.Size([512]) torch.uint8\n"
          ]
        }
      ],
      "source": [
        "for X, y in train_dataloader:\n",
        "    print(\"Shape of X [N, C, H, W]: \", X.shape)\n",
        "    print(\"Shape of y: \", y.shape, y.dtype)\n",
        "    break"
      ]
    },
    {
      "cell_type": "markdown",
      "metadata": {
        "id": "hmKECcBTG9Ie"
      },
      "source": [
        "### Classification model"
      ]
    },
    {
      "cell_type": "code",
      "execution_count": 10,
      "metadata": {
        "id": "9SJwrIM4G9If",
        "outputId": "c559a12e-ef27-4f5e-bddf-7042b7420c97",
        "ExecuteTime": {
          "end_time": "2023-11-16T10:00:38.565206500Z",
          "start_time": "2023-11-16T10:00:38.534121200Z"
        },
        "colab": {
          "base_uri": "https://localhost:8080/"
        }
      },
      "outputs": [
        {
          "output_type": "stream",
          "name": "stdout",
          "text": [
            "Using cuda device\n"
          ]
        }
      ],
      "source": [
        "device = \"cuda\" if torch.cuda.is_available() else \"cpu\"\n",
        "print(\"Using {} device\".format(device))"
      ]
    },
    {
      "cell_type": "markdown",
      "metadata": {
        "id": "2HiQD7zZG9Ig"
      },
      "source": [
        "We set the architecture of the classification model. <br>\n",
        "There is a lot of room for different experiments. <br>"
      ]
    },
    {
      "cell_type": "code",
      "execution_count": 11,
      "metadata": {
        "id": "r8lGtmI9G9Ig",
        "ExecuteTime": {
          "end_time": "2023-11-16T10:00:40.961133600Z",
          "start_time": "2023-11-16T10:00:40.934241600Z"
        }
      },
      "outputs": [],
      "source": [
        "class convolutional_neural_network(nn.Module):\n",
        "    def __init__(self):\n",
        "        super(convolutional_neural_network, self).__init__()\n",
        "\n",
        "        self.convolution_blocks = nn.Sequential(OrderedDict([\n",
        "            ('conv_block_1', nn.Conv2d(3, 32, kernel_size=3, stride=1, padding=1)),\n",
        "            ('batch_norm_1', nn.BatchNorm2d(32)),\n",
        "            ('leaky_relu_1', nn.LeakyReLU()),\n",
        "            ('max_pool_1', nn.MaxPool2d(2)),\n",
        "\n",
        "            ('conv_block_2', nn.Conv2d(32, 48, kernel_size=3, stride=1, padding=1)),\n",
        "            ('batch_norm_2', nn.BatchNorm2d(48)),\n",
        "            ('leaky_relu_2', nn.LeakyReLU()),\n",
        "            ('max_pool_2', nn.MaxPool2d(2)),\n",
        "\n",
        "            ('conv_block_3', nn.Conv2d(48, 64, kernel_size=3, stride=1, padding=1)),\n",
        "            ('batch_norm_3', nn.BatchNorm2d(64)),\n",
        "            ('leaky_relu_3', nn.LeakyReLU()),\n",
        "            ('max_pool_3', nn.MaxPool2d(2)),\n",
        "        ]))\n",
        "\n",
        "        self.final_linear_layer = nn.Linear(64 * 4 * 4, 10)\n",
        "\n",
        "    def forward(self, x):\n",
        "        out = self.convolution_blocks(x)\n",
        "        out = out.view(-1, 64 * 4 * 4)\n",
        "        out = self.final_linear_layer(out)\n",
        "        return out\n",
        "\n",
        "model = convolutional_neural_network()"
      ]
    },
    {
      "cell_type": "markdown",
      "metadata": {
        "id": "qxMV3wsBG9Ih"
      },
      "source": [
        "We send the model to the selected device."
      ]
    },
    {
      "cell_type": "code",
      "execution_count": 12,
      "metadata": {
        "id": "YtFrQZR_G9Ih",
        "outputId": "3750f224-00c2-4dcf-c04f-dfa88e827d60",
        "ExecuteTime": {
          "end_time": "2023-11-16T10:00:42.514307400Z",
          "start_time": "2023-11-16T10:00:42.470394600Z"
        },
        "colab": {
          "base_uri": "https://localhost:8080/"
        }
      },
      "outputs": [
        {
          "output_type": "stream",
          "name": "stdout",
          "text": [
            "convolutional_neural_network(\n",
            "  (convolution_blocks): Sequential(\n",
            "    (conv_block_1): Conv2d(3, 32, kernel_size=(3, 3), stride=(1, 1), padding=(1, 1))\n",
            "    (batch_norm_1): BatchNorm2d(32, eps=1e-05, momentum=0.1, affine=True, track_running_stats=True)\n",
            "    (leaky_relu_1): LeakyReLU(negative_slope=0.01)\n",
            "    (max_pool_1): MaxPool2d(kernel_size=2, stride=2, padding=0, dilation=1, ceil_mode=False)\n",
            "    (conv_block_2): Conv2d(32, 48, kernel_size=(3, 3), stride=(1, 1), padding=(1, 1))\n",
            "    (batch_norm_2): BatchNorm2d(48, eps=1e-05, momentum=0.1, affine=True, track_running_stats=True)\n",
            "    (leaky_relu_2): LeakyReLU(negative_slope=0.01)\n",
            "    (max_pool_2): MaxPool2d(kernel_size=2, stride=2, padding=0, dilation=1, ceil_mode=False)\n",
            "    (conv_block_3): Conv2d(48, 64, kernel_size=(3, 3), stride=(1, 1), padding=(1, 1))\n",
            "    (batch_norm_3): BatchNorm2d(64, eps=1e-05, momentum=0.1, affine=True, track_running_stats=True)\n",
            "    (leaky_relu_3): LeakyReLU(negative_slope=0.01)\n",
            "    (max_pool_3): MaxPool2d(kernel_size=2, stride=2, padding=0, dilation=1, ceil_mode=False)\n",
            "  )\n",
            "  (final_linear_layer): Linear(in_features=1024, out_features=10, bias=True)\n",
            ")\n"
          ]
        }
      ],
      "source": [
        "model = model.to(device)\n",
        "print(model)"
      ]
    },
    {
      "cell_type": "markdown",
      "metadata": {
        "id": "Y5wEN_6BG9Ih"
      },
      "source": [
        "### Training"
      ]
    },
    {
      "cell_type": "markdown",
      "metadata": {
        "id": "o-1WWgnxG9Ii"
      },
      "source": [
        "We set the loss function (optimization goal) and the optimizer."
      ]
    },
    {
      "cell_type": "code",
      "execution_count": 13,
      "metadata": {
        "id": "yY7CXtMYG9Ii",
        "ExecuteTime": {
          "end_time": "2023-11-16T10:00:45.342739800Z",
          "start_time": "2023-11-16T10:00:45.309188700Z"
        },
        "colab": {
          "base_uri": "https://localhost:8080/"
        },
        "outputId": "8cf8bf8e-1662-4a40-e91d-966931cea665"
      },
      "outputs": [
        {
          "output_type": "stream",
          "name": "stderr",
          "text": [
            "<ipython-input-13-fd210526ca6e>:5: UserWarning: To copy construct from a tensor, it is recommended to use sourceTensor.clone().detach() or sourceTensor.clone().detach().requires_grad_(True), rather than torch.tensor(sourceTensor).\n",
            "  loss_fn = nn.CrossEntropyLoss(weight=torch.tensor(torch.tensor(class_weights).to(device, dtype=torch.float32)))\n"
          ]
        }
      ],
      "source": [
        "\n",
        "unique_targets, counts = np.unique(data.targets, return_counts=True)\n",
        "class_weights = counts / counts.sum()\n",
        "\n",
        "\n",
        "loss_fn = nn.CrossEntropyLoss(weight=torch.tensor(torch.tensor(class_weights).to(device, dtype=torch.float32)))\n",
        "optimizer = torch.optim.Adam(model.parameters())\n",
        "\n"
      ]
    },
    {
      "cell_type": "markdown",
      "metadata": {
        "id": "pMNO54CZG9Ii"
      },
      "source": [
        "Code for visualizing the learning process.\n",
        "\n",
        "Every `interval` optimization steps and at the end of epochs, we write the values of the loss function and metrics to the log. <br>\n",
        "Then, by calling the `show_progress` function, we update the training schedule. <br>"
      ]
    },
    {
      "cell_type": "code",
      "execution_count": 14,
      "metadata": {
        "id": "rFWRUYv7G9Ik",
        "ExecuteTime": {
          "end_time": "2023-11-16T10:00:47.948462900Z",
          "start_time": "2023-11-16T10:00:47.922464Z"
        }
      },
      "outputs": [],
      "source": [
        "# Training logs\n",
        "interval = 100\n",
        "train_ts, train_loss = [], []\n",
        "val_ts, val_loss, val_acc = [], [], []"
      ]
    },
    {
      "cell_type": "code",
      "execution_count": 15,
      "metadata": {
        "id": "UBMWEFpBG9Ik",
        "ExecuteTime": {
          "end_time": "2023-11-16T10:00:51.630910700Z",
          "start_time": "2023-11-16T10:00:51.615801600Z"
        }
      },
      "outputs": [],
      "source": [
        "def show_progress(t):\n",
        "    clear_output(wait=True)\n",
        "    fig, (ax1, ax2) = plt.subplots(1, 2, constrained_layout=True, figsize=(20, 5))\n",
        "    fig.suptitle(f'Epoch {t:3.3f}', fontsize=16)\n",
        "    ax1.set_title('loss')\n",
        "    ax1.set_xlabel('time (epochs)')\n",
        "    ax1.set_ylabel('loss')\n",
        "    ax1.plot(train_ts, train_loss, c='darkblue', lw=3)\n",
        "    ax1.plot(val_ts, val_loss, c='green', marker='o', lw=5)\n",
        "    ax2.set_title('accuracy')\n",
        "    ax2.set_xlabel('time (epochs)')\n",
        "    ax2.plot(val_ts, val_acc, c='green', marker='o', lw=5)\n",
        "    plt.show()"
      ]
    },
    {
      "cell_type": "code",
      "execution_count": 16,
      "metadata": {
        "id": "J73Mczw8G9Il",
        "ExecuteTime": {
          "end_time": "2023-11-16T10:00:55.781225700Z",
          "start_time": "2023-11-16T10:00:55.765120100Z"
        }
      },
      "outputs": [],
      "source": [
        "def train(epoch, dataloader, model, loss_fn, optimizer):\n",
        "    model.train()\n",
        "    num_batches = len(dataloader)\n",
        "    for batch, (X, y) in enumerate(dataloader):\n",
        "        # Send data to training device\n",
        "        X, y = X.to(device), y.to(device)\n",
        "        # Compute prediction error\n",
        "        pred = model(X)\n",
        "        loss = loss_fn(pred, y)\n",
        "        # Backpropagation\n",
        "        optimizer.zero_grad()\n",
        "        loss.backward()\n",
        "        optimizer.step()\n",
        "        # Progress output\n",
        "        if batch % interval == 0:\n",
        "            t = epoch + (batch + 1)/num_batches\n",
        "            train_ts.append(t)\n",
        "            train_loss.append(loss.item())\n",
        "            show_progress(t)"
      ]
    },
    {
      "cell_type": "code",
      "execution_count": 17,
      "metadata": {
        "id": "q0JV_05_G9Il",
        "ExecuteTime": {
          "end_time": "2023-11-16T10:00:56.072652700Z",
          "start_time": "2023-11-16T10:00:56.036438900Z"
        }
      },
      "outputs": [],
      "source": [
        "def test(epoch, dataloader, model, loss_fn):\n",
        "    model.eval()\n",
        "    num_batches = len(dataloader)\n",
        "    size = len(dataloader.dataset)\n",
        "    test_loss, correct = 0, 0\n",
        "    with torch.no_grad():\n",
        "        for X, y in dataloader:\n",
        "            X, y = X.to(device), y.to(device)\n",
        "            pred = model(X)\n",
        "            test_loss += loss_fn(pred, y).item()\n",
        "            correct += (pred.argmax(1) == y).type(torch.float).sum().item()\n",
        "    test_loss /= num_batches\n",
        "    correct /= size\n",
        "    val_ts.append(epoch+1)\n",
        "    val_loss.append(test_loss)\n",
        "    val_acc.append(correct)\n",
        "    show_progress(epoch+1)"
      ]
    },
    {
      "cell_type": "markdown",
      "metadata": {
        "id": "1PTeo8aKG9Il"
      },
      "source": [
        "Training loop."
      ]
    },
    {
      "cell_type": "code",
      "execution_count": 18,
      "metadata": {
        "id": "CAPMHsGhG9Im",
        "outputId": "3f5a9bb6-f8c0-4958-b1b9-a8ce9d12bee2",
        "colab": {
          "base_uri": "https://localhost:8080/",
          "height": 417
        }
      },
      "outputs": [
        {
          "output_type": "display_data",
          "data": {
            "text/plain": [
              "<Figure size 2000x500 with 2 Axes>"
            ],
            "image/png": "[encoded data removed]"
          },
          "metadata": {}
        },
        {
          "output_type": "stream",
          "name": "stderr",
          "text": [
            "100%|██████████| 25/25 [17:00<00:00, 40.80s/it]\n"
          ]
        }
      ],
      "source": [
        "epochs = 25\n",
        "for t in trange(epochs):\n",
        "    train(t, train_dataloader, model, loss_fn, optimizer)\n",
        "    test(t, val_dataloader, model, loss_fn)"
      ]
    },
    {
      "cell_type": "markdown",
      "metadata": {
        "id": "iZ-Tyj3-G9Im"
      },
      "source": [
        "### Submit solution"
      ]
    },
    {
      "cell_type": "markdown",
      "metadata": {
        "id": "_PtkIkUsG9Im"
      },
      "source": [
        "Download the test part of the dataset."
      ]
    },
    {
      "cell_type": "code",
      "execution_count": 19,
      "metadata": {
        "id": "ZrogskJDG9Im",
        "ExecuteTime": {
          "end_time": "2023-11-16T10:12:18.143449700Z",
          "start_time": "2023-11-16T10:12:17.069585300Z"
        },
        "colab": {
          "base_uri": "https://localhost:8080/"
        },
        "outputId": "cefcf9b5-cc59-4aa8-ec54-966bcb36e473"
      },
      "outputs": [
        {
          "output_type": "stream",
          "name": "stderr",
          "text": [
            "100%|██████████| 25000/25000 [00:37<00:00, 667.66it/s]\n"
          ]
        }
      ],
      "source": [
        "test_data = SVHN(\n",
        "    root=dataset_root,\n",
        "    is_train=False,\n",
        "    transform=ToTensor(),\n",
        ")"
      ]
    },
    {
      "cell_type": "code",
      "execution_count": 20,
      "metadata": {
        "id": "XTREMaKBG9Io",
        "ExecuteTime": {
          "end_time": "2023-11-16T10:12:19.080558100Z",
          "start_time": "2023-11-16T10:12:18.955455800Z"
        }
      },
      "outputs": [],
      "source": [
        "test_dataloader = DataLoader(\n",
        "    test_data,\n",
        "    batch_size=batch_size,\n",
        ")"
      ]
    },
    {
      "cell_type": "markdown",
      "metadata": {
        "id": "i63WwoOdG9Io"
      },
      "source": [
        "We make predictions by the final model."
      ]
    },
    {
      "cell_type": "code",
      "execution_count": 21,
      "metadata": {
        "id": "bYVwjcUYG9Io",
        "ExecuteTime": {
          "end_time": "2023-11-16T10:12:25.303853600Z",
          "start_time": "2023-11-16T10:12:21.935850800Z"
        }
      },
      "outputs": [],
      "source": [
        "predictions = []\n",
        "\n",
        "model.eval()\n",
        "with torch.no_grad():\n",
        "    for X, _ in test_dataloader:\n",
        "        X = X.to(device)\n",
        "        pred = model(X).argmax(1).cpu().numpy()\n",
        "        predictions.extend(list(pred))"
      ]
    },
    {
      "cell_type": "markdown",
      "metadata": {
        "id": "uViY1xXtG9Ip"
      },
      "source": [
        "We form a solution file to submit to Kaggle."
      ]
    },
    {
      "cell_type": "code",
      "execution_count": 22,
      "metadata": {
        "id": "pO4QZrCgG9Ip",
        "ExecuteTime": {
          "end_time": "2023-11-16T10:12:25.381767Z",
          "start_time": "2023-11-16T10:12:25.305855Z"
        }
      },
      "outputs": [],
      "source": [
        "def write_solution(filename, labels):\n",
        "    with open(filename, 'w') as solution:\n",
        "        print('Id,Category', file=solution)\n",
        "        for i, label in enumerate(labels):\n",
        "            print(f'{i},{label}', file=solution)\n",
        "\n",
        "write_solution('solution.csv', predictions)"
      ]
    },
    {
      "cell_type": "code",
      "execution_count": 22,
      "outputs": [],
      "source": [],
      "metadata": {
        "id": "XM3ics2tf0-3"
      }
    }
  ],
  "metadata": {
    "colab": {
      "provenance": [],
      "gpuType": "T4",
      "toc_visible": true,
      "include_colab_link": true
    },
    "kernelspec": {
      "display_name": "Python 3",
      "name": "python3"
    },
    "language_info": {
      "codemirror_mode": {
        "name": "ipython",
        "version": 3
      },
      "file_extension": ".py",
      "mimetype": "text/x-python",
      "name": "python",
      "nbconvert_exporter": "python",
      "pygments_lexer": "ipython3",
      "version": "3.8.10"
    },
    "accelerator": "GPU"
  },
  "nbformat": 4,
  "nbformat_minor": 0
}